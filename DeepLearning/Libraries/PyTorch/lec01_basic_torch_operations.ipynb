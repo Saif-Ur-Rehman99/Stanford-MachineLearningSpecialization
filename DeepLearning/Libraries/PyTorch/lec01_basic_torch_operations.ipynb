{
  "nbformat": 4,
  "nbformat_minor": 0,
  "metadata": {
    "colab": {
      "provenance": [],
      "gpuType": "T4"
    },
    "kernelspec": {
      "name": "python3",
      "display_name": "Python 3"
    },
    "language_info": {
      "name": "python"
    },
    "accelerator": "GPU"
  },
  "cells": [
    {
      "cell_type": "code",
      "execution_count": 1,
      "metadata": {
        "id": "8kC7TkzfLqdy"
      },
      "outputs": [],
      "source": [
        "import torch"
      ]
    },
    {
      "cell_type": "code",
      "source": [
        "torch.__version__"
      ],
      "metadata": {
        "colab": {
          "base_uri": "https://localhost:8080/",
          "height": 35
        },
        "id": "dLas5yLAL601",
        "outputId": "0dbc8883-d226-425b-9674-8d22426f397a"
      },
      "execution_count": 2,
      "outputs": [
        {
          "output_type": "execute_result",
          "data": {
            "text/plain": [
              "'2.5.1+cu121'"
            ],
            "application/vnd.google.colaboratory.intrinsic+json": {
              "type": "string"
            }
          },
          "metadata": {},
          "execution_count": 2
        }
      ]
    },
    {
      "cell_type": "code",
      "source": [
        "if torch.cuda.is_available():\n",
        "    print(f'CUDA is available {torch.cuda.get_device_name(0)}')\n",
        "else:\n",
        "    print('CUDA is not available')"
      ],
      "metadata": {
        "colab": {
          "base_uri": "https://localhost:8080/"
        },
        "id": "4hBriGdbMNUf",
        "outputId": "81de4dd8-8cd4-4d48-8681-e2de81543c85"
      },
      "execution_count": 3,
      "outputs": [
        {
          "output_type": "stream",
          "name": "stdout",
          "text": [
            "CUDA is available Tesla T4\n"
          ]
        }
      ]
    },
    {
      "cell_type": "code",
      "source": [
        "torch.cuda.get_device_properties(0)"
      ],
      "metadata": {
        "colab": {
          "base_uri": "https://localhost:8080/"
        },
        "id": "KNVWj4KUMkPk",
        "outputId": "09f33d41-0749-4316-f393-07c5ee21b65d"
      },
      "execution_count": 4,
      "outputs": [
        {
          "output_type": "execute_result",
          "data": {
            "text/plain": [
              "_CudaDeviceProperties(name='Tesla T4', major=7, minor=5, total_memory=15102MB, multi_processor_count=40, uuid=1edb007f-9c42-750e-b87f-4e73960e2311, L2_cache_size=4MB)"
            ]
          },
          "metadata": {},
          "execution_count": 4
        }
      ]
    },
    {
      "cell_type": "markdown",
      "source": [
        "## **Creating Tensors**"
      ],
      "metadata": {
        "id": "esk23Je3NN85"
      }
    },
    {
      "cell_type": "code",
      "source": [
        "torch.empty(2,3)"
      ],
      "metadata": {
        "colab": {
          "base_uri": "https://localhost:8080/"
        },
        "id": "VPdHq9L2M7LP",
        "outputId": "a5487776-ba70-436d-c572-85a7881f547b"
      },
      "execution_count": 5,
      "outputs": [
        {
          "output_type": "execute_result",
          "data": {
            "text/plain": [
              "tensor([[0., 0., 0.],\n",
              "        [0., 0., 0.]])"
            ]
          },
          "metadata": {},
          "execution_count": 5
        }
      ]
    },
    {
      "cell_type": "code",
      "source": [
        "torch.zeros(2,3)"
      ],
      "metadata": {
        "colab": {
          "base_uri": "https://localhost:8080/"
        },
        "id": "8SZM-381NbTg",
        "outputId": "f8e5837d-7812-460a-e843-61130ca8a1fe"
      },
      "execution_count": 6,
      "outputs": [
        {
          "output_type": "execute_result",
          "data": {
            "text/plain": [
              "tensor([[0., 0., 0.],\n",
              "        [0., 0., 0.]])"
            ]
          },
          "metadata": {},
          "execution_count": 6
        }
      ]
    },
    {
      "cell_type": "code",
      "source": [
        "torch.ones(3,3)"
      ],
      "metadata": {
        "colab": {
          "base_uri": "https://localhost:8080/"
        },
        "id": "SkwoMZt8NuxM",
        "outputId": "25f1274b-f1ab-4da1-95e0-1cea528e0fa9"
      },
      "execution_count": 7,
      "outputs": [
        {
          "output_type": "execute_result",
          "data": {
            "text/plain": [
              "tensor([[1., 1., 1.],\n",
              "        [1., 1., 1.],\n",
              "        [1., 1., 1.]])"
            ]
          },
          "metadata": {},
          "execution_count": 7
        }
      ]
    },
    {
      "cell_type": "code",
      "source": [
        "torch.rand(2,3)"
      ],
      "metadata": {
        "colab": {
          "base_uri": "https://localhost:8080/"
        },
        "id": "0XeDZYj0N2e_",
        "outputId": "e05d076b-9da9-43b5-b7d3-860f1f475e4e"
      },
      "execution_count": 8,
      "outputs": [
        {
          "output_type": "execute_result",
          "data": {
            "text/plain": [
              "tensor([[0.0612, 0.5362, 0.4926],\n",
              "        [0.9606, 0.6654, 0.8610]])"
            ]
          },
          "metadata": {},
          "execution_count": 8
        }
      ]
    },
    {
      "cell_type": "code",
      "source": [
        "torch.manual_seed(100)\n",
        "torch.rand(2,3)"
      ],
      "metadata": {
        "colab": {
          "base_uri": "https://localhost:8080/"
        },
        "id": "p0hPhEPdN-LJ",
        "outputId": "d26be816-fd1b-4d2f-be77-aed7e0110f81"
      },
      "execution_count": 9,
      "outputs": [
        {
          "output_type": "execute_result",
          "data": {
            "text/plain": [
              "tensor([[0.1117, 0.8158, 0.2626],\n",
              "        [0.4839, 0.6765, 0.7539]])"
            ]
          },
          "metadata": {},
          "execution_count": 9
        }
      ]
    },
    {
      "cell_type": "code",
      "source": [
        "torch.tensor([[1,2,3],[2,4,6]], dtype=torch.int32)"
      ],
      "metadata": {
        "colab": {
          "base_uri": "https://localhost:8080/"
        },
        "id": "iz5rVfWTOOLg",
        "outputId": "7853e494-0c1c-4134-c509-2469b1809a97"
      },
      "execution_count": 10,
      "outputs": [
        {
          "output_type": "execute_result",
          "data": {
            "text/plain": [
              "tensor([[1, 2, 3],\n",
              "        [2, 4, 6]], dtype=torch.int32)"
            ]
          },
          "metadata": {},
          "execution_count": 10
        }
      ]
    },
    {
      "cell_type": "code",
      "source": [
        "torch.full((2,2), 6)"
      ],
      "metadata": {
        "colab": {
          "base_uri": "https://localhost:8080/"
        },
        "id": "hrzfbp0cOmYL",
        "outputId": "06cc5e48-d637-4d82-c020-86d4c21d0606"
      },
      "execution_count": 11,
      "outputs": [
        {
          "output_type": "execute_result",
          "data": {
            "text/plain": [
              "tensor([[6, 6],\n",
              "        [6, 6]])"
            ]
          },
          "metadata": {},
          "execution_count": 11
        }
      ]
    },
    {
      "cell_type": "markdown",
      "source": [
        "## **Shapes and Datatypes**"
      ],
      "metadata": {
        "id": "GFGoxLVgPoYc"
      }
    },
    {
      "cell_type": "code",
      "source": [
        "x = torch.tensor([[2,4,8],[1,3,9]])\n",
        "x.shape"
      ],
      "metadata": {
        "colab": {
          "base_uri": "https://localhost:8080/"
        },
        "id": "s7Nld77FPMzj",
        "outputId": "af2b9ad5-4093-40c1-aa1d-e833d45a5b11"
      },
      "execution_count": 12,
      "outputs": [
        {
          "output_type": "execute_result",
          "data": {
            "text/plain": [
              "torch.Size([2, 3])"
            ]
          },
          "metadata": {},
          "execution_count": 12
        }
      ]
    },
    {
      "cell_type": "code",
      "source": [
        "# torch.zeros_like, torch.ones_like, torch.rand_like\n",
        "torch.empty_like(x)"
      ],
      "metadata": {
        "colab": {
          "base_uri": "https://localhost:8080/"
        },
        "id": "jgWvaXo_QEPi",
        "outputId": "1c04205d-acd2-4af7-9cf0-5998a0dc1101"
      },
      "execution_count": 13,
      "outputs": [
        {
          "output_type": "execute_result",
          "data": {
            "text/plain": [
              "tensor([[    137586743438864,     137586743438864,                   0],\n",
              "        [                  0,        197568495616, 7235419174270214779]])"
            ]
          },
          "metadata": {},
          "execution_count": 13
        }
      ]
    },
    {
      "cell_type": "code",
      "source": [
        "x.to(torch.float32)"
      ],
      "metadata": {
        "colab": {
          "base_uri": "https://localhost:8080/"
        },
        "id": "gwzprTCoQYFB",
        "outputId": "9b034c6f-7282-4cc3-f605-9685b970b6fc"
      },
      "execution_count": 14,
      "outputs": [
        {
          "output_type": "execute_result",
          "data": {
            "text/plain": [
              "tensor([[2., 4., 8.],\n",
              "        [1., 3., 9.]])"
            ]
          },
          "metadata": {},
          "execution_count": 14
        }
      ]
    },
    {
      "cell_type": "markdown",
      "source": [
        "## **Mathematical Operations**"
      ],
      "metadata": {
        "id": "7bqgom75JXd3"
      }
    },
    {
      "cell_type": "code",
      "source": [
        "y = torch.tensor([4.6, 2.3, 3.5, 5.4])"
      ],
      "metadata": {
        "id": "WY6xq-fCRNqg"
      },
      "execution_count": 18,
      "outputs": []
    },
    {
      "cell_type": "code",
      "source": [
        "torch.round(y)"
      ],
      "metadata": {
        "colab": {
          "base_uri": "https://localhost:8080/"
        },
        "id": "QBSXnymULB4w",
        "outputId": "e01ae1f4-370e-4c4f-d6e0-37f82380b138"
      },
      "execution_count": 19,
      "outputs": [
        {
          "output_type": "execute_result",
          "data": {
            "text/plain": [
              "tensor([5., 2., 4., 5.])"
            ]
          },
          "metadata": {},
          "execution_count": 19
        }
      ]
    },
    {
      "cell_type": "code",
      "source": [
        "torch.floor(y)"
      ],
      "metadata": {
        "colab": {
          "base_uri": "https://localhost:8080/"
        },
        "id": "0SGH-ckFLL0_",
        "outputId": "48a84668-05d2-455f-db38-9eccd0104ea9"
      },
      "execution_count": 20,
      "outputs": [
        {
          "output_type": "execute_result",
          "data": {
            "text/plain": [
              "tensor([4., 2., 3., 5.])"
            ]
          },
          "metadata": {},
          "execution_count": 20
        }
      ]
    },
    {
      "cell_type": "code",
      "source": [
        "torch.ceil(y)"
      ],
      "metadata": {
        "colab": {
          "base_uri": "https://localhost:8080/"
        },
        "id": "JHxz0_mwLP70",
        "outputId": "ee2612f4-c8a5-41fd-c5ab-0fbdad4386c7"
      },
      "execution_count": 21,
      "outputs": [
        {
          "output_type": "execute_result",
          "data": {
            "text/plain": [
              "tensor([5., 3., 4., 6.])"
            ]
          },
          "metadata": {},
          "execution_count": 21
        }
      ]
    },
    {
      "cell_type": "code",
      "source": [
        "torch.clamp(y, min=3, max=5)"
      ],
      "metadata": {
        "colab": {
          "base_uri": "https://localhost:8080/"
        },
        "id": "PcBRxkiWLULe",
        "outputId": "d79cbc82-b04e-45ee-aff5-7e2228fed20b"
      },
      "execution_count": 22,
      "outputs": [
        {
          "output_type": "execute_result",
          "data": {
            "text/plain": [
              "tensor([4.6000, 3.0000, 3.5000, 5.0000])"
            ]
          },
          "metadata": {},
          "execution_count": 22
        }
      ]
    },
    {
      "cell_type": "code",
      "source": [
        "torch.argmin(y)"
      ],
      "metadata": {
        "colab": {
          "base_uri": "https://localhost:8080/"
        },
        "id": "jLExPx-2MbKJ",
        "outputId": "440d6efa-09b6-462f-c91c-a5939bd246ca"
      },
      "execution_count": 23,
      "outputs": [
        {
          "output_type": "execute_result",
          "data": {
            "text/plain": [
              "tensor(1)"
            ]
          },
          "metadata": {},
          "execution_count": 23
        }
      ]
    },
    {
      "cell_type": "code",
      "source": [
        "torch.argmax(y)"
      ],
      "metadata": {
        "colab": {
          "base_uri": "https://localhost:8080/"
        },
        "id": "xDxTRpWaMfA2",
        "outputId": "0cec4b7a-0c4a-4a2c-e069-a97fa75cf725"
      },
      "execution_count": 24,
      "outputs": [
        {
          "output_type": "execute_result",
          "data": {
            "text/plain": [
              "tensor(3)"
            ]
          },
          "metadata": {},
          "execution_count": 24
        }
      ]
    },
    {
      "cell_type": "markdown",
      "source": [
        "## **Special Functions**"
      ],
      "metadata": {
        "id": "5SnMHrUTNc44"
      }
    },
    {
      "cell_type": "code",
      "source": [
        "torch.sigmoid(y)"
      ],
      "metadata": {
        "colab": {
          "base_uri": "https://localhost:8080/"
        },
        "id": "-TSXl0pnNitT",
        "outputId": "56485cc2-90ca-4813-9f7e-991c179ccd28"
      },
      "execution_count": 25,
      "outputs": [
        {
          "output_type": "execute_result",
          "data": {
            "text/plain": [
              "tensor([0.9900, 0.9089, 0.9707, 0.9955])"
            ]
          },
          "metadata": {},
          "execution_count": 25
        }
      ]
    },
    {
      "cell_type": "code",
      "source": [
        "torch.tanh(y)"
      ],
      "metadata": {
        "colab": {
          "base_uri": "https://localhost:8080/"
        },
        "id": "60VqVl9fNpR3",
        "outputId": "cb666993-134e-47f6-e401-2e15be5d04d2"
      },
      "execution_count": 26,
      "outputs": [
        {
          "output_type": "execute_result",
          "data": {
            "text/plain": [
              "tensor([0.9998, 0.9801, 0.9982, 1.0000])"
            ]
          },
          "metadata": {},
          "execution_count": 26
        }
      ]
    },
    {
      "cell_type": "code",
      "source": [
        "torch.relu(y)"
      ],
      "metadata": {
        "colab": {
          "base_uri": "https://localhost:8080/"
        },
        "id": "oqcPdlmeNsqq",
        "outputId": "a5198faa-96cd-4c2f-c9ce-011cb9d73342"
      },
      "execution_count": 27,
      "outputs": [
        {
          "output_type": "execute_result",
          "data": {
            "text/plain": [
              "tensor([4.6000, 2.3000, 3.5000, 5.4000])"
            ]
          },
          "metadata": {},
          "execution_count": 27
        }
      ]
    },
    {
      "cell_type": "code",
      "source": [
        "# dtype must be float, 0 means columns, 1 means rows\n",
        "torch.softmax(y, dim=0)"
      ],
      "metadata": {
        "colab": {
          "base_uri": "https://localhost:8080/"
        },
        "id": "FJYPaCGVNuLb",
        "outputId": "a167e946-a1b9-48a9-c1e4-301e3a8a28f4"
      },
      "execution_count": 28,
      "outputs": [
        {
          "output_type": "execute_result",
          "data": {
            "text/plain": [
              "tensor([0.2733, 0.0274, 0.0910, 0.6083])"
            ]
          },
          "metadata": {},
          "execution_count": 28
        }
      ]
    },
    {
      "cell_type": "markdown",
      "source": [
        "## **GPU Based Calculations**"
      ],
      "metadata": {
        "id": "3nWZk7C4JlVv"
      }
    },
    {
      "cell_type": "code",
      "source": [
        "a = torch.rand(2,3)\n",
        "b = a\n",
        "print(\"ID - a\", id(a))\n",
        "print(\"ID - b\", id(b))\n",
        "b = a.clone()\n",
        "print(\"ID - a\", id(a))\n",
        "print(\"ID - b\", id(b))"
      ],
      "metadata": {
        "colab": {
          "base_uri": "https://localhost:8080/"
        },
        "id": "lorCKnzqJox6",
        "outputId": "6f851220-5510-4e71-b93b-12b9fcfbb2ce"
      },
      "execution_count": 29,
      "outputs": [
        {
          "output_type": "stream",
          "name": "stdout",
          "text": [
            "ID - a 137582490472944\n",
            "ID - b 137582490472944\n",
            "ID - a 137582490472944\n",
            "ID - b 137582489728208\n"
          ]
        }
      ]
    },
    {
      "cell_type": "code",
      "source": [
        "x = torch.tensor([[1,1,1],[1,1,1]])\n",
        "y = torch.tensor([[2,2,2],[2,2,2]])\n",
        "print(\"x + y\", x.add(y))\n",
        "print(\"x\", x)\n",
        "print(\"y\", y)\n",
        "print(\"x + y\", x.add_(y))\n",
        "print(\"x\", x)\n",
        "print(\"y\", y)"
      ],
      "metadata": {
        "colab": {
          "base_uri": "https://localhost:8080/"
        },
        "id": "oXTZTnriQC7L",
        "outputId": "1e5095d0-2919-4d3b-b688-ce56b16b4880"
      },
      "execution_count": 31,
      "outputs": [
        {
          "output_type": "stream",
          "name": "stdout",
          "text": [
            "x + y tensor([[3, 3, 3],\n",
            "        [3, 3, 3]])\n",
            "x tensor([[1, 1, 1],\n",
            "        [1, 1, 1]])\n",
            "y tensor([[2, 2, 2],\n",
            "        [2, 2, 2]])\n",
            "x + y tensor([[3, 3, 3],\n",
            "        [3, 3, 3]])\n",
            "x tensor([[3, 3, 3],\n",
            "        [3, 3, 3]])\n",
            "y tensor([[2, 2, 2],\n",
            "        [2, 2, 2]])\n"
          ]
        }
      ]
    },
    {
      "cell_type": "code",
      "source": [
        "device = torch.device('cuda')\n",
        "\n",
        "# Create tensors on GPU\n",
        "torch.tensor([1,2,3], device=device)\n",
        "\n",
        "# Move tensors to GPU\n",
        "torch.tensor([1,2,3]).to(device)"
      ],
      "metadata": {
        "colab": {
          "base_uri": "https://localhost:8080/"
        },
        "id": "7tP-J7XqQP8y",
        "outputId": "4b2b699f-067c-40fb-b65c-9586cd74121f"
      },
      "execution_count": 32,
      "outputs": [
        {
          "output_type": "execute_result",
          "data": {
            "text/plain": [
              "tensor([1, 2, 3], device='cuda:0')"
            ]
          },
          "metadata": {},
          "execution_count": 32
        }
      ]
    },
    {
      "cell_type": "markdown",
      "source": [
        "## **CPU VS GPU**"
      ],
      "metadata": {
        "id": "U_p24eicTH3A"
      }
    },
    {
      "cell_type": "code",
      "source": [
        "import time\n",
        "\n",
        "size = 10000\n",
        "matrix_cpu_1 = torch.randn(size, size)\n",
        "matrix_cpu_2 = torch.randn(size, size)\n",
        "\n",
        "# Measure Time on CPU\n",
        "start = time.time()\n",
        "result_cpu = torch.matmul(matrix_cpu_1, matrix_cpu_2)\n",
        "end = time.time()\n",
        "print(\"CPU Time:\", end - start)\n",
        "\n",
        "matrix_gpu_1 = matrix_cpu_1.to(device)\n",
        "matrix_gpu_2 = matrix_cpu_2.to(device)\n",
        "\n",
        "# Measure Time in GPU\n",
        "start = time.time()\n",
        "result_gpu = torch.matmul(matrix_gpu_1, matrix_gpu_2)\n",
        "end = time.time()\n",
        "print(\"GPU Time:\", end - start)\n"
      ],
      "metadata": {
        "colab": {
          "base_uri": "https://localhost:8080/"
        },
        "id": "3a3kkDWYS3kt",
        "outputId": "dbbddbed-5ea1-41a8-e2cd-3f1a4d0dec25"
      },
      "execution_count": 34,
      "outputs": [
        {
          "output_type": "stream",
          "name": "stdout",
          "text": [
            "CPU Time: 16.514270305633545\n",
            "GPU Time: 0.0013425350189208984\n"
          ]
        }
      ]
    },
    {
      "cell_type": "markdown",
      "source": [
        "## **NumPY and PyTorch**"
      ],
      "metadata": {
        "id": "WlAy66-PVJVs"
      }
    },
    {
      "cell_type": "code",
      "source": [
        "import numpy as np"
      ],
      "metadata": {
        "id": "keGj8BdmTt8C"
      },
      "execution_count": 35,
      "outputs": []
    },
    {
      "cell_type": "code",
      "source": [
        "a = torch.tensor([1,2,3])\n",
        "b = a.numpy()\n",
        "print(type(b))"
      ],
      "metadata": {
        "colab": {
          "base_uri": "https://localhost:8080/"
        },
        "id": "GSMTcNS0VWDP",
        "outputId": "b9189529-509c-4271-eab6-b3276c0ede27"
      },
      "execution_count": 36,
      "outputs": [
        {
          "output_type": "stream",
          "name": "stdout",
          "text": [
            "<class 'numpy.ndarray'>\n"
          ]
        }
      ]
    },
    {
      "cell_type": "code",
      "source": [
        "a = np.array([1,2,3])\n",
        "b = torch.from_numpy(a)\n",
        "print(type(b))"
      ],
      "metadata": {
        "colab": {
          "base_uri": "https://localhost:8080/"
        },
        "id": "djXbSeETVgtS",
        "outputId": "e49a5e6b-511c-4d3e-bb1b-8cfacead1f0e"
      },
      "execution_count": 37,
      "outputs": [
        {
          "output_type": "stream",
          "name": "stdout",
          "text": [
            "<class 'torch.Tensor'>\n"
          ]
        }
      ]
    }
  ]
}